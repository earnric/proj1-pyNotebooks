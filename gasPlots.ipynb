{
 "cells": [
  {
   "cell_type": "code",
   "execution_count": 1,
   "metadata": {
    "collapsed": true
   },
   "outputs": [],
   "source": [
    "import gc\n",
    "from matplotlib.pylab import *\n",
    "import matplotlib.pyplot as plt \n",
    "import pynbody\n",
    "import pynbody.plot.sph as sph\n",
    "import mmap\n",
    "\n",
    "pynbody.ramses.multiprocess_num = 12\n",
    "pynbody.config['number_of_threads'] = 24\n",
    "\n",
    "rcParams['figure.figsize'] = (12,9)\n",
    "rcParams['font.size'] = 36"
   ]
  },
  {
   "cell_type": "code",
   "execution_count": null,
   "metadata": {
    "collapsed": false
   },
   "outputs": [],
   "source": [
    "# s = pynbody.load('output_00016')  # z=16\n",
    "s = pynbody.load('output_00121')  # z=8\n",
    "print (\"Loading {}\".format('file...'))"
   ]
  },
  {
   "cell_type": "code",
   "execution_count": null,
   "metadata": {
    "collapsed": true
   },
   "outputs": [],
   "source": [
    "s['pos']\n",
    "s['pos'] -= 0.5\n",
    "s.physical_units();"
   ]
  },
  {
   "cell_type": "code",
   "execution_count": null,
   "metadata": {
    "collapsed": false
   },
   "outputs": [],
   "source": [
    "z = 1/s.properties['a']-1\n",
    "print (\"Redshift = {:.0f}\".format(z))\n",
    "boxsizestring = \"%.2f\" % s.properties['boxsize'].in_units('kpc')\n",
    "boxsizestring += \" kpc\"\n",
    "print (boxsizestring)"
   ]
  },
  {
   "cell_type": "code",
   "execution_count": null,
   "metadata": {
    "collapsed": true
   },
   "outputs": [],
   "source": [
    "s.g['zsolar']  = s.g['metal'] * 50.0         # Solar units\n",
    "s.g['pzsolar'] = s.g['pzf'] * 50.0           # Solar units\n",
    "s.g['zsolar'][s.g['zsolar']< 1e-5] = 1e-6\n",
    "s.g['pzsolar'][s.g['pzsolar']< 1e-5] = 1e-6"
   ]
  },
  {
   "cell_type": "code",
   "execution_count": null,
   "metadata": {
    "collapsed": false
   },
   "outputs": [],
   "source": [
    "sbox = 40.0 / (1.0 + z) * 0.71 # 40 kpc comoving box\n",
    "smallbox = str(sbox) + \" kpc\"\n",
    "print(smallbox)\n",
    "\n",
    "# z=16, i=0 : -20.26, -122.12, 40.22\n",
    "# z=16, i=770 : 43.96, 26.56, 121.94\n",
    "# z=16, i=1540 : 44.54, 19.03, 118.77\n",
    "\n",
    "# rx,ry,rz = 44.54, 19.03, 118.77 # 00016\n",
    "# tic = 0.5\n",
    "# i=1540 # 00016, 1540\n",
    "\n",
    "# z=8, i=0 : -121.77, -104.01, -203.10\n",
    "# z=8, i=265793 : -0.88, 215.56, 143.27\n",
    "# z=8, i=531586 : 77.55, 54.08, 218.96\n",
    "# z=8, i=797379 : 137.45, -200.82, -220.27\n",
    "\n",
    "rx,ry,rz = -121.77, -104.01, -203.10\n",
    "tic = 0.8\n",
    "i=0  # 00121, 0"
   ]
  },
  {
   "cell_type": "code",
   "execution_count": 24,
   "metadata": {
    "collapsed": false
   },
   "outputs": [
    {
     "name": "stdout",
     "output_type": "stream",
     "text": [
      "44.54 19.03 118.77\n"
     ]
    }
   ],
   "source": [
    "print(rx,ry,rz)\n",
    "impData = s[pynbody.filt.Cuboid(str((rx-sbox/2.0)) + \" kpc\", str((ry-sbox/2.0)) + \" kpc\",str((rz-sbox/4.0)) + \" kpc\",\n",
    "                                str((rx+sbox/2.0)) + \" kpc\", str((ry+sbox/2.0)) + \" kpc\",str((rz+sbox/4.0)) + \" kpc\")]\n",
    "rect = [0.15,0.15,0.85,0.9]\n",
    "coords= [-rx,-ry,-rz] # Translation requires negative of the coord"
   ]
  },
  {
   "cell_type": "code",
   "execution_count": 28,
   "metadata": {
    "collapsed": false
   },
   "outputs": [
    {
     "name": "stdout",
     "output_type": "stream",
     "text": [
      "Density - z = 16.0\n"
     ]
    }
   ],
   "source": [
    "with pynbody.transformation.translate(impData,coords):\n",
    "    fig = plt.figure()\n",
    "    ax = fig.add_subplot(111)\n",
    "    ax.xaxis.set_visible(False)\n",
    "    fileOut = \"img_log_ax_Density-z=%.1lf-%i.pdf\"% (z,i)\n",
    "    titleStr = \"Density - z = %.1lf\" % z# + \"\\n[%.2lf %.2lf %.2lf]\"%(rx,ry,rz)\n",
    "    print (titleStr)\n",
    "    sph.image(impData.g,qty=\"rho\",width=smallbox,cmap=\"terrain\", denoise=True ,av_z=False, units=\"m_p cm^-3\",\n",
    "                      log=True, approximate_fast=False, vmin=10**-4.5, vmax=10**2.0,\n",
    "                      subplot=ax,qtytitle=r\"${\\rm log}\\,m_{\\rm p}/{\\rm cm}^{3}$\"); \n",
    "    ax.set_yticks([-tic, 0,tic])\n",
    "    ## ax.set_yticklabels(['-0.7','0','0.7'])\n",
    "    plt.savefig(fileOut,dpi=fig.dpi,bbox_inches='tight')\n",
    "    plt.close(fig)\n",
    "    \n",
    "#     del(ax)\n",
    "#     fig = plt.figure()\n",
    "#     ax = fig.add_subplot(111)\n",
    "#     ax.xaxis.set_visible(False)\n",
    "#     ax.yaxis.set_visible(False)\n",
    "#     fileOut = \"img_log_ax_cs-z=%.1lf-%i.pdf\"% (z,i)\n",
    "#     titleStr = \"cs - z = %.1lf\" % z# + \"\\n[%.2lf %.2lf %.2lf]\"%(rx,ry,rz)\n",
    "#     print (titleStr)\n",
    "#     sph.image(impData.g,qty=\"cs\",width=smallbox,cmap=\"RdYlBu_r\", denoise=True ,av_z=False, units=\"km s^-1\",\n",
    "#                       log=True, approximate_fast=False,subplot=ax,  vmin=10**0.5, vmax=1e3,\n",
    "#                       qtytitle=r\"${\\rm log}\\, c_{\\rm s}\\, {\\rm km/s}$\"); \n",
    "#     plt.savefig(fileOut,dpi=fig.dpi,bbox_inches='tight') \n",
    "#     plt.close(fig)\n",
    "    \n",
    "#     fig = plt.figure()\n",
    "#     ax = fig.add_subplot(111)\n",
    "#     ax.xaxis.set_visible(False)\n",
    "#     ax.yaxis.set_visible(False)\n",
    "#     fileOut = \"img_log_ax_vt-z=%.1lf-%i.pdf\"% (z,i)\n",
    "#     titleStr = \"$v_{t}$ @ z = %.1f\" % z + \"\\nThin slice @ %s\" % str(coords)\n",
    "#     print(titleStr)\n",
    "#     sph.velocity_image(impData.g, qty=\"tv\", width=smallbox, cmap = \"RdYlBu_r\", units=\"km s^-1\",\n",
    "#                    mode='quiver', quiverkey=False,qtytitle=r\"${\\rm log}\\, v_{t}\\, {\\rm km/s}$\",\n",
    "#                    density = 1.0, vector_resolution=40, vmin=10**0.5, vmax=1e3, subplot=ax,\n",
    "#                    show_cbar=True, vector_color='black') # gist_ncar\n",
    "#     plt.savefig(fileOut,dpi=fig.dpi,bbox_inches='tight') \n",
    "#     plt.close(fig)\n"
   ]
  },
  {
   "cell_type": "code",
   "execution_count": 26,
   "metadata": {
    "collapsed": false
   },
   "outputs": [
    {
     "name": "stdout",
     "output_type": "stream",
     "text": [
      "Fraction of PM  0.9563744035594924\n"
     ]
    }
   ],
   "source": [
    "s.g['pzsolar'][s.g['pzsolar']< 1e-5] = 0.0   # Since we are looking at ratio\n",
    "print(\"Fraction of PM \", \n",
    "      np.sum(impData.g['rho'] * impData.g['x']**3 * impData.g['pzsolar']/impData.g['zsolar'])/np.sum(impData.g['rho'] * impData.g['x']**3))"
   ]
  },
  {
   "cell_type": "code",
   "execution_count": 29,
   "metadata": {
    "collapsed": false
   },
   "outputs": [
    {
     "data": {
      "text/plain": [
       "8786"
      ]
     },
     "execution_count": 29,
     "metadata": {},
     "output_type": "execute_result"
    }
   ],
   "source": [
    "del(s)\n",
    "gc.collect()"
   ]
  },
  {
   "cell_type": "code",
   "execution_count": null,
   "metadata": {
    "collapsed": true
   },
   "outputs": [],
   "source": []
  }
 ],
 "metadata": {
  "kernelspec": {
   "display_name": "Python 3",
   "language": "python",
   "name": "python3"
  },
  "language_info": {
   "codemirror_mode": {
    "name": "ipython",
    "version": 3
   },
   "file_extension": ".py",
   "mimetype": "text/x-python",
   "name": "python",
   "nbconvert_exporter": "python",
   "pygments_lexer": "ipython3",
   "version": "3.4.4"
  }
 },
 "nbformat": 4,
 "nbformat_minor": 0
}
