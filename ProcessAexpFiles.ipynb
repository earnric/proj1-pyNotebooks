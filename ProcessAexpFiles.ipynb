{
 "cells": [
  {
   "cell_type": "code",
   "execution_count": 1,
   "metadata": {
    "collapsed": true
   },
   "outputs": [],
   "source": [
    "import numpy as np"
   ]
  },
  {
   "cell_type": "code",
   "execution_count": 2,
   "metadata": {
    "collapsed": false
   },
   "outputs": [
    {
     "name": "stdout",
     "output_type": "stream",
     "text": [
      "aexp.out\r\n"
     ]
    }
   ],
   "source": [
    "ls aex*"
   ]
  },
  {
   "cell_type": "code",
   "execution_count": 3,
   "metadata": {
    "collapsed": false
   },
   "outputs": [],
   "source": [
    "aexp = np.loadtxt(\"aexp.out\",dtype=[('label','S12'),('a','f8')])"
   ]
  },
  {
   "cell_type": "code",
   "execution_count": 4,
   "metadata": {
    "collapsed": false
   },
   "outputs": [
    {
     "data": {
      "text/plain": [
       "array([ 18.12003914,  17.9995939 ,  17.65011029,  17.24623081,\n",
       "        16.99988794,  15.99925248,  14.99865263,  13.99880572,\n",
       "        12.99966703,   9.49990332,   8.99988192,   7.99993333,\n",
       "         7.49988253,   6.99989656,   6.49997337,   5.99990892,\n",
       "         5.50042677,   5.49992338,   4.99991188,   4.9787747 ])"
      ]
     },
     "execution_count": 4,
     "metadata": {},
     "output_type": "execute_result"
    }
   ],
   "source": [
    "1.0/aexp['a']-1.0"
   ]
  },
  {
   "cell_type": "code",
   "execution_count": 5,
   "metadata": {
    "collapsed": true
   },
   "outputs": [],
   "source": [
    "np.set_printoptions(precision=3)"
   ]
  },
  {
   "cell_type": "code",
   "execution_count": 6,
   "metadata": {
    "collapsed": false
   },
   "outputs": [
    {
     "name": "stdout",
     "output_type": "stream",
     "text": [
      "b'output_00007' z=18.12\n",
      "b'output_00008' z=18.00\n",
      "b'output_00009' z=17.65\n",
      "b'output_00010' z=17.25\n",
      "b'output_00011' z=17.00\n",
      "b'output_00016' z=16.00\n",
      "b'output_00020' z=15.00\n",
      "b'output_00026' z=14.00\n",
      "b'output_00033' z=13.00\n",
      "b'output_00084' z=9.50\n",
      "b'output_00097' z=9.00\n",
      "b'output_00121' z=8.00\n",
      "b'output_00136' z=7.50\n",
      "b'output_00152' z=7.00\n",
      "b'output_00169' z=6.50\n",
      "b'output_00191' z=6.00\n",
      "b'output_00214' z=5.50\n",
      "b'output_00215' z=5.50\n",
      "b'output_00241' z=5.00\n",
      "b'output_00243' z=4.98\n"
     ]
    }
   ],
   "source": [
    "for i in range(0, len(aexp)):\n",
    "    print(\"%s z=%.2f\"%(aexp['label'][i],1.0/aexp['a'][i]-1.0))"
   ]
  },
  {
   "cell_type": "code",
   "execution_count": null,
   "metadata": {
    "collapsed": true
   },
   "outputs": [],
   "source": []
  }
 ],
 "metadata": {
  "kernelspec": {
   "display_name": "Python 3",
   "language": "python",
   "name": "python3"
  },
  "language_info": {
   "codemirror_mode": {
    "name": "ipython",
    "version": 3
   },
   "file_extension": ".py",
   "mimetype": "text/x-python",
   "name": "python",
   "nbconvert_exporter": "python",
   "pygments_lexer": "ipython3",
   "version": "3.4.4"
  }
 },
 "nbformat": 4,
 "nbformat_minor": 0
}
