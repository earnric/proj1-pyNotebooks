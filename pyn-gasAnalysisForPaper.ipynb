{
 "cells": [
  {
   "cell_type": "markdown",
   "metadata": {},
   "source": [
    "# Plots for paper"
   ]
  },
  {
   "cell_type": "code",
   "execution_count": null,
   "metadata": {
    "collapsed": false
   },
   "outputs": [],
   "source": [
    "%matplotlib inline\n",
    "import gc\n",
    "%config InlineBackend.figure_format = 'retina'\n",
    "from matplotlib.pylab import *\n",
    "import matplotlib.pyplot as plt \n",
    "rcParams['figure.figsize'] = (12,9)\n",
    "rcParams['font.size'] = 34\n",
    "#import logging"
   ]
  },
  {
   "cell_type": "code",
   "execution_count": null,
   "metadata": {
    "collapsed": false
   },
   "outputs": [],
   "source": [
    "import pynbody\n",
    "import pynbody.plot.sph as sph\n",
    "import mmap\n",
    "pynbody.ramses.multiprocess_num = 12\n",
    "pynbody.config['number_of_threads'] = 128"
   ]
  },
  {
   "cell_type": "code",
   "execution_count": null,
   "metadata": {
    "collapsed": false
   },
   "outputs": [],
   "source": [
    "pynbody.openmp.get_cpus()"
   ]
  },
  {
   "cell_type": "markdown",
   "metadata": {},
   "source": [
    "## We need output 16 and 121 for the paper ... These correspond to z = 16 and z = 8 respectively"
   ]
  },
  {
   "cell_type": "code",
   "execution_count": null,
   "metadata": {
    "collapsed": false
   },
   "outputs": [],
   "source": [
    "del(s)\n",
    "gc.collect()"
   ]
  },
  {
   "cell_type": "code",
   "execution_count": null,
   "metadata": {
    "collapsed": false
   },
   "outputs": [],
   "source": [
    "s = pynbody.load('output_00016')\n",
    "s['pos']\n",
    "s['pos'] -= 0.5\n",
    "s.physical_units();"
   ]
  },
  {
   "cell_type": "code",
   "execution_count": null,
   "metadata": {
    "collapsed": false
   },
   "outputs": [],
   "source": [
    "z = 1/s.properties['a']-1\n",
    "print (\"Redshift =\",z)\n",
    "boxsizestring = \"%.2f\" % s.properties['boxsize'].in_units('kpc')\n",
    "boxsizestring += \" kpc\"\n",
    "print (boxsizestring)"
   ]
  },
  {
   "cell_type": "code",
   "execution_count": null,
   "metadata": {
    "collapsed": false
   },
   "outputs": [],
   "source": [
    "s.g['metal'][s.g['metal']<=1e-7]    = 1e-10 # Since we divide by Z below, don't use 0.0\n",
    "#s.g['pgf'][s.g['pgf']>(1.0-1e-10)]  = 1.0\n",
    "s.g['pzf'][s.g['pzf']<=1e-7]        = 1e-10\n",
    "s.g['zsolar']  = s.g['metal'] * 50.0         # Solar units\n",
    "s.g['pzsolar'] = s.g['pzf'] * 50.0           # Solar units\n",
    "\n",
    "#s.s['metal'][s.s['metal']<1e-10]    = 1e-10\n",
    "#s.s['ppf'][s.s['ppf']>(1.0-1e-10)]  = 1.0\n",
    "#s.s['pzf'][s.s['pzf']<1e-10]        = 1e-10\n",
    "#s.s['zsolar']  = s.s['metal'] * 50.0         # Solar units\n",
    "#s.s['pzsolar'] = s.s['pzf'] * 50.0           # Solar units\n"
   ]
  },
  {
   "cell_type": "code",
   "execution_count": null,
   "metadata": {
    "collapsed": false
   },
   "outputs": [],
   "source": [
    "sbox = 40.0 / (1.0 + z) * 0.71 # 40 kpc comoving box\n",
    "smallbox = str(sbox) + \" kpc\"\n",
    "print(smallbox)"
   ]
  },
  {
   "cell_type": "code",
   "execution_count": null,
   "metadata": {
    "collapsed": false
   },
   "outputs": [],
   "source": [
    "# z=16, i=0 : -20.26, -122.12, 40.22\n",
    "# z=16, i=770 : 43.96, 26.56, 121.94\n",
    "# z=16, i=1540 : 44.54, 19.03, 118.77\n",
    "\n",
    "rx,ry,rz = 44.54, 19.03, 118.77\n",
    "i=1540\n",
    "print(rx,ry,rz)\n",
    "\n",
    "impData = s[pynbody.filt.Cuboid(str((rx-sbox/2.0)) + \" kpc\", str((ry-sbox/2.0)) + \" kpc\",str((rz-sbox/4.0)) + \" kpc\",\n",
    "                                str((rx+sbox/2.0)) + \" kpc\", str((ry+sbox/2.0)) + \" kpc\",str((rz+sbox/4.0)) + \" kpc\")]"
   ]
  },
  {
   "cell_type": "code",
   "execution_count": null,
   "metadata": {
    "collapsed": false
   },
   "outputs": [],
   "source": [
    "print(z,i)"
   ]
  },
  {
   "cell_type": "code",
   "execution_count": null,
   "metadata": {
    "collapsed": false
   },
   "outputs": [],
   "source": [
    "coords= [-rx,-ry,-rz] # Translation requires negative of the coord\n",
    "with pynbody.transformation.translate(impData,coords):\n",
    "    fig = plt.figure()\n",
    "    ax = fig.add_subplot(111)\n",
    "    ax.yaxis.set_visible(False)\n",
    "    #ax.set_xlabel(fontsize=40)\n",
    "    fileOut=\"img_Z-z=%.1lf-%i.pdf\"% (z,i)\n",
    "    titleStr = \"$Z_{\\odot}$ - z = %.1lf\" % z# + \"\\n[%.2lf %.2lf %.2lf]\"%(rx,ry,rz)\n",
    "    print (titleStr)\n",
    "    sph.image(impData.g,qty=\"zsolar\",width=smallbox,cmap=\"nipy_spectral\", denoise=True ,av_z=False, subplot=ax,\n",
    "                      log=True, vmax=1.0, vmin=1e-7, qtytitle=\"$Z_{\\odot}$\", approximate_fast=False\n",
    "                      ); #vmin=0.006, vmax=1.0,\n",
    "    ax.set_xticks([-0.7, 0, 0.7])\n",
    "    ax.set_xticklabels(['-0.7','0','0.7'])\n",
    "    plt.savefig(fileOut)\n",
    "    plt.close(fig)\n",
    "            \n",
    "    fig = plt.figure()\n",
    "    ax = fig.add_subplot(111)\n",
    "    fileOut=\"img_PGF-z=%.1lf-%i.pdf\"% (z,i)\n",
    "    titleStr = \"PGF - z = %.1lf\" % z# + \"\\n[%.2lf %.2lf %.2lf]\"%(rx,ry,rz)\n",
    "    print (titleStr)\n",
    "    sph.image(impData.g,qty=\"pgf\",width=smallbox,cmap=\"nipy_spectral\", denoise=True ,av_z=False,subplot=ax,\n",
    "                      log=True, vmax = 1.0, vmin=1e-7, qtytitle=\"$PGF$\",approximate_fast=False\n",
    "                      ); #vmin=0.006, vmax=1.0,\n",
    "    ax.set_xticks([-0.7, 0, 0.7])\n",
    "    ax.set_xticklabels(['-0.7','0','0.7'])\n",
    "    ax.set_yticks([-0.7, 0, 0.7])\n",
    "    ax.set_yticklabels(['-0.7','0','0.7'])\n",
    "    plt.savefig(fileOut)\n",
    "    plt.close(fig)\n",
    "            \n",
    "    fig = plt.figure()\n",
    "    ax = fig.add_subplot(111)\n",
    "    ax.yaxis.set_visible(False)\n",
    "    fileOut=\"img_PZ-z=%.1lf-%i.pdf\"% (z,i)\n",
    "    titleStr = \"$Z_{P, \\odot}$ - z = %.1lf\" % z# + \"\\n[%.2lf %.2lf %.2lf]\"%(rx,ry,rz)\n",
    "    print (titleStr)\n",
    "    sph.image(impData.g,qty=\"pzsolar\",width=smallbox,cmap=\"nipy_spectral\", denoise=True ,av_z=False,subplot=ax,\n",
    "                      log=True, vmax=1.0, vmin=1e-7, qtytitle=\"$log_{10}\\; Z_{P,\\odot}$\", approximate_fast=False\n",
    "                      ); #vmin=0.006, vmax=1.0,\n",
    "            \n",
    "    ax.set_xticks([-0.7, 0, 0.7])\n",
    "    ax.set_xticklabels(['-0.7','0','0.7'])\n",
    "    plt.savefig(fileOut)\n",
    "    plt.close(fig)\n",
    "\n",
    "    fig = plt.figure()\n",
    "    ax = fig.add_subplot(111)\n",
    "    ax.xaxis.set_visible(False)\n",
    "    fileOut=\"img_Density-z=%.1lf-%i.pdf\"% (z,i)\n",
    "    titleStr = \"Density - z = %.1lf\" % z# + \"\\n[%.2lf %.2lf %.2lf]\"%(rx,ry,rz)\n",
    "    print (titleStr)\n",
    "    sph.image(impData.g,qty=\"rho\",width=smallbox,cmap=\"terrain\", denoise=True ,av_z=False,\n",
    "                      log=True, approximate_fast=False,subplot=ax,qtytitle=\"$log_{10}\\; M_{\\odot}/kpc^{3}$\"\n",
    "                      ); #vmin=0.006, vmax=1.0,\n",
    "    ax.set_yticks([-0.7, 0,0.7])\n",
    "    ax.set_yticklabels(['-0.7','0','0.7'])\n",
    "    plt.savefig(fileOut)\n",
    "    plt.close(fig)\n",
    "            \n",
    "    fig = plt.figure()\n",
    "    ax = fig.add_subplot(111)\n",
    "    ax.xaxis.set_visible(False)\n",
    "    ax.yaxis.set_visible(False)\n",
    "    fileOut=\"img_Temp-z=%.1lf-%i.pdf\"% (z,i)\n",
    "    titleStr = \"Temp - z = %.1lf\" % z# + \"\\n[%.2lf %.2lf %.2lf]\"%(rx,ry,rz)\n",
    "    print (titleStr)\n",
    "    sph.image(impData.g,qty=\"temp\",width=smallbox,cmap=\"RdYlBu_r\", denoise=True ,av_z=False,\n",
    "                      log=True, approximate_fast=False,subplot=ax,qtytitle=\"$log_{10}\\; Temp\\, [K]$\"\n",
    "                      ); #vmin=0.006, vmax=1.0,\n",
    "    plt.savefig(fileOut)  # Needed since filename=fileOut doesn't include the vel vecs\n",
    "    plt.close(fig)\n",
    "    \n",
    "    fig = plt.figure()\n",
    "    ax = fig.add_subplot(111)\n",
    "    ax.xaxis.set_visible(False)\n",
    "    ax.yaxis.set_visible(False)\n",
    "    fileOut=\"img_vt-z=%.1lf-%i.pdf\"% (z,i)\n",
    "    titleStr = \"$v_{t}$ @ z = %.1f\" % z + \"\\nThin slice @ %s\" % str(coords)\n",
    "    print(titleStr)\n",
    "    sph.velocity_image(impData.g, qty=\"tv\", width=smallbox, cmap = \"gist_ncar\", \n",
    "                    mode='quiver', key_color='black',qtytitle=\"$log_{10}\\; v\\, km/s$\",\n",
    "                    key_x=0.2, key_y=0.1,quiverkey_bg_color='w',\n",
    "                    density = 1.0, vector_resolution=40, vmax=1e3,subplot=ax,\n",
    "                    show_cbar=True, vector_color='black')\n",
    "    plt.savefig(fileOut)  # Needed since filename=fileOut doesn't include the vel vecs\n",
    "    plt.close(fig)"
   ]
  },
  {
   "cell_type": "code",
   "execution_count": null,
   "metadata": {
    "collapsed": false
   },
   "outputs": [],
   "source": [
    "fileNames=[\n",
    "    \"img_Z-z=%.1lf-%i.pdf\"% (z,i),\n",
    "    \"img_PGF-z=%.1lf-%i.pdf\"% (z,i),\n",
    "    \"img_PZ-z=%.1lf-%i.pdf\"% (z,i),\n",
    "    \"img_Density-z=%.1lf-%i.pdf\"% (z,i),\n",
    "    \"img_Temp-z=%.1lf-%i.pdf\"% (z,i),\n",
    "    \"img_vt-z=%.1lf-%i.pdf\"% (z,i)\n",
    "]\n",
    "print(fileNames[5])"
   ]
  },
  {
   "cell_type": "code",
   "execution_count": null,
   "metadata": {
    "collapsed": false
   },
   "outputs": [],
   "source": [
    "from imp import reload\n",
    "reload(pynbody)"
   ]
  },
  {
   "cell_type": "code",
   "execution_count": null,
   "metadata": {
    "collapsed": false
   },
   "outputs": [],
   "source": [
    "coords= [-rx,-ry,-rz] # Translation requires negative of the coord\n",
    "with pynbody.transformation.translate(impData,coords):\n",
    "    fig = plt.figure()\n",
    "    ax = fig.add_subplot(111)\n",
    "    ax.xaxis.set_visible(False)\n",
    "    ax.yaxis.set_visible(False)\n",
    "    fileOut=\"img_vt-z=%.1lf-%i.pdf\"% (z,i)\n",
    "    titleStr = \"$v_{t}$ @ z = %.1f\" % z + \"\\nThin slice @ %s\" % str(coords)\n",
    "    print(titleStr)\n",
    "    pynbody.plot.sph.velocity_image(impData.g, qty=\"tv\", width=smallbox, cmap = \"gist_ncar\", \n",
    "                    mode='quiver', key_color='black',qtytitle=\"$v\\, km/s$\",\n",
    "                       key_x=0.2, key_y=0.1,\n",
    "                   density = 1.0, vector_resolution=40, vmax=1e3,subplot=ax,\n",
    "                   show_cbar=True, vector_color='black')\n",
    "    legend = plt.legend()\n",
    "    frame = legend.get_frame()\n",
    "    frame.set_color('white')\n",
    "    plt.show()\n",
    "#    plt.savefig(fileOut)  # Needed since filename=fileOut doesn't include the vel vecs\n",
    "#    plt.close(fig)"
   ]
  },
  {
   "cell_type": "code",
   "execution_count": null,
   "metadata": {
    "collapsed": false
   },
   "outputs": [],
   "source": [
    "with pynbody.transformation.translate(impData,coords):\n",
    "    fig = plt.figure()\n",
    "    ax = fig.add_subplot(111)\n",
    "    ax.xaxis.set_visible(False)\n",
    "    ax.yaxis.set_visible(False)\n",
    "    fileOut=\"img_vt-z=%.1lf-%i.pdf\"% (z,i)\n",
    "    titleStr = \"$v_{t}$ @ z = %.1f\" % z + \"\\nThin slice @ %s\" % str(coords)\n",
    "    print(titleStr)\n",
    "    pynbody.plot.sph.velocity_image(impData.g, qty=\"tv\", width=smallbox, cmap = \"gist_ncar\", \n",
    "                    mode='quiver', key_color='black',qtytitle=\"$v\\, km/s$\",\n",
    "                       key_x=0.2, key_y=0.1, log=False,\n",
    "                   density = 1.0, vector_resolution=40, vmax=1e3,subplot=ax,\n",
    "                   show_cbar=True, vector_color='black')\n",
    "    plt.show()\n",
    "#    plt.savefig(fileOut)  # Needed since filename=fileOut doesn't include the vel vecs\n",
    "#    plt.close(fig)"
   ]
  },
  {
   "cell_type": "markdown",
   "metadata": {},
   "source": [
    "# Next"
   ]
  },
  {
   "cell_type": "code",
   "execution_count": null,
   "metadata": {
    "collapsed": false
   },
   "outputs": [],
   "source": [
    "del(s)\n",
    "gc.collect()"
   ]
  },
  {
   "cell_type": "code",
   "execution_count": null,
   "metadata": {
    "collapsed": false
   },
   "outputs": [],
   "source": [
    "gc.collect()"
   ]
  },
  {
   "cell_type": "code",
   "execution_count": null,
   "metadata": {
    "collapsed": false
   },
   "outputs": [],
   "source": [
    "s = pynbody.load('output_00121')\n",
    "s['pos']\n",
    "s['pos'] -= 0.5\n",
    "s.physical_units();"
   ]
  },
  {
   "cell_type": "code",
   "execution_count": null,
   "metadata": {
    "collapsed": false
   },
   "outputs": [],
   "source": [
    "z = 1/s.properties['a']-1\n",
    "print (\"Redshift =\",z)\n",
    "boxsizestring = \"%.2f\" % s.properties['boxsize'].in_units('kpc')\n",
    "boxsizestring += \" kpc\"\n",
    "print (boxsizestring)"
   ]
  },
  {
   "cell_type": "code",
   "execution_count": null,
   "metadata": {
    "collapsed": false
   },
   "outputs": [],
   "source": [
    "sbox = 40.0 / (1.0 + z) * 0.71 # 40 kpc comoving box\n",
    "smallbox = str(sbox) + \" kpc\"\n",
    "print(smallbox)"
   ]
  },
  {
   "cell_type": "code",
   "execution_count": null,
   "metadata": {
    "collapsed": true
   },
   "outputs": [],
   "source": [
    "s.g['metal'][s.g['metal']<1e-7]    = 1e-10 # Since we divide by Z below, don't use 0.0\n",
    "#s2.g['pgf'][s2.g['pgf']>(1.0-1e-10)]  = 1.0\n",
    "s.g['pzf'][s.g['pzf']<1e-7]        = 1e-10\n",
    "s.g['zsolar']  = s.g['metal'] * 50.0         # Solar units\n",
    "s.g['pzsolar'] = s.g['pzf'] * 50.0          # Solar units\n",
    "\n",
    "#s2.s['metal'][s2.s['metal']<1e-10]    = 1e-10\n",
    "#s2.s['ppf'][s2.s['ppf']>(1.0-1e-10)]  = 1.0\n",
    "#s2.s['pzf'][s2.s['pzf']<1e-10]        = 1e-10\n",
    "#s2.s['zsolar']  = s2.s['metal'] * 50.0         # Solar units\n",
    "#s2.s['pzsolar'] = s2.s['pzf'] * 50.0          # Solar units"
   ]
  },
  {
   "cell_type": "code",
   "execution_count": null,
   "metadata": {
    "collapsed": false
   },
   "outputs": [],
   "source": [
    "gc.collect()"
   ]
  },
  {
   "cell_type": "code",
   "execution_count": null,
   "metadata": {
    "collapsed": true
   },
   "outputs": [],
   "source": []
  },
  {
   "cell_type": "code",
   "execution_count": null,
   "metadata": {
    "collapsed": false
   },
   "outputs": [],
   "source": [
    "# z=8, i=0 : -121.77, -104.01, -203.10\n",
    "# z=8, i=265793 : -0.88, 215.56, 143.27\n",
    "# z=8, i=531586 : 77.55, 54.08, 218.96\n",
    "# z=8, i=797379 : 137.45, -200.82, -220.27\n",
    "\n",
    "rx,ry,rz = -121.77, -104.01, -203.10\n",
    "i=0\n",
    "print(rx,ry,rz)\n",
    "impData = s[pynbody.filt.Cuboid(str((rx-sbox/2.0)) + \" kpc\", str((ry-sbox/2.0)) + \" kpc\",str((rz-sbox/4.0)) + \" kpc\",\n",
    "                                str((rx+sbox/2.0)) + \" kpc\", str((ry+sbox/2.0)) + \" kpc\",str((rz+sbox/4.0)) + \" kpc\")]\n",
    "print(z,i)"
   ]
  },
  {
   "cell_type": "code",
   "execution_count": null,
   "metadata": {
    "collapsed": false
   },
   "outputs": [],
   "source": [
    "pwd"
   ]
  },
  {
   "cell_type": "code",
   "execution_count": null,
   "metadata": {
    "collapsed": false
   },
   "outputs": [],
   "source": [
    "coords= [-rx,-ry,-rz] # Translation requires negative of the coord\n",
    "with pynbody.transformation.translate(impData,coords):\n",
    "    fig = plt.figure()\n",
    "    ax = fig.add_subplot(111)\n",
    "    ax.yaxis.set_visible(False)\n",
    "    #ax.set_xlabel(fontsize=40)\n",
    "    fileOut=\"img_Z-z=%.1lf-%i.pdf\"% (z,i)\n",
    "    titleStr = \"$Z_{\\odot}$ - z = %.1lf\" % z# + \"\\n[%.2lf %.2lf %.2lf]\"%(rx,ry,rz)\n",
    "    print (titleStr)\n",
    "    sph.image(impData.g,qty=\"zsolar\",width=smallbox,cmap=\"nipy_spectral\", denoise=True ,av_z=False, subplot=ax,\n",
    "                      log=True, vmax=1.0, vmin=1e-7, qtytitle=\"$Z_{\\odot}$\", approximate_fast=False\n",
    "                      ); #vmin=0.006, vmax=1.0,\n",
    "    ax.set_xticks([-1.0, 0, 1.0])\n",
    "    ax.set_xticklabels(['-1.0','0','1.0'])\n",
    "    plt.savefig(fileOut)\n",
    "    plt.close(fig)\n",
    "            \n",
    "    fig = plt.figure()\n",
    "    ax = fig.add_subplot(111)\n",
    "    fileOut=\"img_PGF-z=%.1lf-%i.pdf\"% (z,i)\n",
    "    titleStr = \"PGF - z = %.1lf\" % z# + \"\\n[%.2lf %.2lf %.2lf]\"%(rx,ry,rz)\n",
    "    print (titleStr)\n",
    "    sph.image(impData.g,qty=\"pgf\",width=smallbox,cmap=\"nipy_spectral\", denoise=True ,av_z=False,subplot=ax,\n",
    "                      log=True, vmax = 1.0, vmin=1e-7, qtytitle=\"$PGF$\",approximate_fast=False\n",
    "                      ); #vmin=0.006, vmax=1.0,\n",
    "    ax.set_xticks([-1.0, 0, 1.0])\n",
    "    ax.set_xticklabels(['-1.0','0','1.0'])\n",
    "    ax.set_yticks([-1.0, 0, 1.0])\n",
    "    ax.set_yticklabels(['-1.0','0','1.0'])\n",
    "    plt.savefig(fileOut)\n",
    "    plt.close(fig)\n",
    "            \n",
    "    fig = plt.figure()\n",
    "    ax = fig.add_subplot(111)\n",
    "    ax.yaxis.set_visible(False)\n",
    "    fileOut=\"img_PZ-z=%.1lf-%i.pdf\"% (z,i)\n",
    "    titleStr = \"$Z_{P, \\odot}$ - z = %.1lf\" % z# + \"\\n[%.2lf %.2lf %.2lf]\"%(rx,ry,rz)\n",
    "    print (titleStr)\n",
    "    sph.image(impData.g,qty=\"pzsolar\",width=smallbox,cmap=\"nipy_spectral\", denoise=True ,av_z=False,subplot=ax,\n",
    "                      log=True, vmax=1.0, vmin=1e-7, qtytitle=\"$Z_{P, \\odot}$\", approximate_fast=False\n",
    "                      ); #vmin=0.006, vmax=1.0,\n",
    "            \n",
    "    ax.set_xticks([-1.0, 0, 1.0])\n",
    "    ax.set_xticklabels(['-1.0','0','1.0'])\n",
    "    plt.savefig(fileOut)\n",
    "    plt.close(fig)\n",
    "\n",
    "    fig = plt.figure()\n",
    "    ax = fig.add_subplot(111)\n",
    "    ax.xaxis.set_visible(False)\n",
    "    fileOut=\"img_Density-z=%.1lf-%i.pdf\"% (z,i)\n",
    "    titleStr = \"Density - z = %.1lf\" % z# + \"\\n[%.2lf %.2lf %.2lf]\"%(rx,ry,rz)\n",
    "    print (titleStr)\n",
    "    sph.image(impData.g,qty=\"rho\",width=smallbox,cmap=\"terrain\", denoise=True ,av_z=False,\n",
    "                      log=True, approximate_fast=False,subplot=ax,qtytitle=\"$M_{\\odot}/kpc^{3}$\"\n",
    "                      ); #vmin=0.006, vmax=1.0,\n",
    "    ax.set_yticks([-1.0, 0, 1.0])\n",
    "    ax.set_yticklabels(['-1.0','0','1.0'])\n",
    "    plt.savefig(fileOut)\n",
    "    plt.close(fig)\n",
    "            \n",
    "\n",
    "    fig = plt.figure()\n",
    "    ax = fig.add_subplot(111)\n",
    "    ax.xaxis.set_visible(False)\n",
    "    fileOut=\"img_DensityNaturalUnits-z=%.1lf-%i.pdf\"% (z,i)\n",
    "    titleStr = \"Density - z = %.1lf\" % z# + \"\\n[%.2lf %.2lf %.2lf]\"%(rx,ry,rz)\n",
    "    print (titleStr)\n",
    "    sph.image(impData.g,qty=\"rho\",width=smallbox,cmap=\"terrain\", denoise=True ,av_z=False,\n",
    "                      log=True, approximate_fast=False,subplot=ax,\n",
    "                      ); #vmin=0.006, vmax=1.0,\n",
    "    ax.set_yticks([-1.0, 0, 1.0])\n",
    "    ax.set_yticklabels(['-1.0','0','1.0'])\n",
    "    plt.savefig(fileOut)\n",
    "    plt.close(fig)\n",
    "            \n",
    "\n",
    "    fig = plt.figure()\n",
    "    ax = fig.add_subplot(111)\n",
    "    ax.xaxis.set_visible(False)\n",
    "    ax.yaxis.set_visible(False)\n",
    "    fileOut=\"img_Temp-z=%.1lf-%i.pdf\"% (z,i)\n",
    "    titleStr = \"Temp - z = %.1lf\" % z# + \"\\n[%.2lf %.2lf %.2lf]\"%(rx,ry,rz)\n",
    "    print (titleStr)\n",
    "    sph.image(impData.g,qty=\"temp\",width=smallbox,cmap=\"RdYlBu_r\", denoise=True ,av_z=False,\n",
    "                      log=True, approximate_fast=False,subplot=ax,qtytitle=\"$Temperature\\, [K]$\"\n",
    "                      ); #vmin=0.006, vmax=1.0,\n",
    "    plt.savefig(fileOut)  # Needed since filename=fileOut doesn't include the vel vecs\n",
    "    plt.close(fig)\n",
    "    \n",
    "    fig = plt.figure()\n",
    "    ax = fig.add_subplot(111)\n",
    "    ax.xaxis.set_visible(False)\n",
    "    ax.yaxis.set_visible(False)\n",
    "    fileOut=\"img_vt-z=%.1lf-%i.pdf\"% (z,i)\n",
    "    titleStr = \"$v_{t}$ @ z = %.1f\" % z + \"\\nThin slice @ %s\" % str(coords)\n",
    "    print(titleStr)\n",
    "    sph.velocity_image(impData.g, qty=\"tv\", width=smallbox, cmap = \"gist_ncar\", \n",
    "                    mode='quiver', key_color='black',qtytitle=\"$v\\, km/s$\",\n",
    "                       key_x=0.2, key_y=0.1,\n",
    "                   density = 1.0, vector_resolution=40, vmax=1e3,subplot=ax,\n",
    "                   show_cbar=True, vector_color='black')\n",
    "    plt.savefig(fileOut)  # Needed since filename=fileOut doesn't include the vel vecs\n",
    "    plt.close(fig)"
   ]
  },
  {
   "cell_type": "code",
   "execution_count": null,
   "metadata": {
    "collapsed": false
   },
   "outputs": [],
   "source": [
    "coords= [-rx,-ry,-rz] # Translation requires negative of the coord\n",
    "with pynbody.transformation.translate(impData,coords):\n",
    "    fig = plt.figure()\n",
    "    ax = fig.add_subplot(111)\n",
    "    ax.xaxis.set_visible(False)\n",
    "    ax.yaxis.set_visible(False)\n",
    "    fileOut=\"img_vt-z=%.1lf-%i.pdf\"% (z,i)\n",
    "    titleStr = \"$v_{t}$ @ z = %.1f\" % z + \"\\nThin slice @ %s\" % str(coords)\n",
    "    print(titleStr)\n",
    "    pynbody.plot.sph.velocity_image(impData.g, qty=\"tv\", width=smallbox, cmap = \"gist_ncar\", \n",
    "                    mode='quiver', key_color='black',qtytitle=\"$v\\, km/s$\",\n",
    "                       key_x=0.2, key_y=0.1,\n",
    "                   density = 1.0, vector_resolution=40, vmax=1e3,subplot=ax,\n",
    "                   show_cbar=True, vector_color='black')\n",
    "    plt.show()\n",
    "#    plt.savefig(fileOut)  # Needed since filename=fileOut doesn't include the vel vecs\n",
    "#    plt.close(fig)"
   ]
  },
  {
   "cell_type": "code",
   "execution_count": null,
   "metadata": {
    "collapsed": true
   },
   "outputs": [],
   "source": []
  }
 ],
 "metadata": {
  "kernelspec": {
   "display_name": "Python 3",
   "language": "python",
   "name": "python3"
  },
  "language_info": {
   "codemirror_mode": {
    "name": "ipython",
    "version": 3
   },
   "file_extension": ".py",
   "mimetype": "text/x-python",
   "name": "python",
   "nbconvert_exporter": "python",
   "pygments_lexer": "ipython3",
   "version": "3.4.4"
  }
 },
 "nbformat": 4,
 "nbformat_minor": 0
}
